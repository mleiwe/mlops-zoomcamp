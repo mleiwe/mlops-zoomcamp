{
 "cells": [
  {
   "cell_type": "markdown",
   "metadata": {},
   "source": [
    "## Q1. Refactoring\n",
    "\n",
    "Before we can start covering our code with tests, we need to \n",
    "refactor it. We'll start by getting rid of all the global variables. \n",
    "\n",
    "* Let's create a function `main` with two parameters: `year` and\n",
    "`month`.\n",
    "* Move all the code (except `read_data`) inside `main`\n",
    "* Make `categorical` a parameter for `read_data` and pass it inside `main`\n",
    "\n",
    "Now we need to create the \"main\" block from which we'll invoke\n",
    "the main function. How does the `if` statement that we use for\n",
    "this looks like? \n",
    "\n",
    "\n",
    "Hint: after refactoring, check that the code still works. Just run it e.g. for March 2023 and see if it finishes successfully. \n",
    "\n",
    "To make it easier to run it, you can write results to your local\n",
    "filesystem. E.g. here:\n",
    "\n",
    "```python\n",
    "output_file = f'taxi_type=yellow_year={year:04d}_month={month:02d}.parquet'\n",
    "```"
   ]
  },
  {
   "cell_type": "markdown",
   "metadata": {},
   "source": [
    "The 'if' statement should look like...\n",
    "```python\n",
    "if __name__==\"__main__\":\n",
    "    year = int(sys.argv[1])\n",
    "    month = int(sys.argv[2])\n",
    "    create_parquet(year, month)\n",
    "```"
   ]
  },
  {
   "cell_type": "code",
   "execution_count": 4,
   "metadata": {},
   "outputs": [
    {
     "data": {
      "text/html": [
       "<div>\n",
       "<style scoped>\n",
       "    .dataframe tbody tr th:only-of-type {\n",
       "        vertical-align: middle;\n",
       "    }\n",
       "\n",
       "    .dataframe tbody tr th {\n",
       "        vertical-align: top;\n",
       "    }\n",
       "\n",
       "    .dataframe thead th {\n",
       "        text-align: right;\n",
       "    }\n",
       "</style>\n",
       "<table border=\"1\" class=\"dataframe\">\n",
       "  <thead>\n",
       "    <tr style=\"text-align: right;\">\n",
       "      <th></th>\n",
       "      <th>ride_id</th>\n",
       "      <th>predicted_duration</th>\n",
       "    </tr>\n",
       "  </thead>\n",
       "  <tbody>\n",
       "    <tr>\n",
       "      <th>0</th>\n",
       "      <td>2023/03_0</td>\n",
       "      <td>16.245906</td>\n",
       "    </tr>\n",
       "    <tr>\n",
       "      <th>1</th>\n",
       "      <td>2023/03_1</td>\n",
       "      <td>26.134796</td>\n",
       "    </tr>\n",
       "    <tr>\n",
       "      <th>2</th>\n",
       "      <td>2023/03_2</td>\n",
       "      <td>11.884264</td>\n",
       "    </tr>\n",
       "    <tr>\n",
       "      <th>3</th>\n",
       "      <td>2023/03_3</td>\n",
       "      <td>11.997720</td>\n",
       "    </tr>\n",
       "    <tr>\n",
       "      <th>4</th>\n",
       "      <td>2023/03_4</td>\n",
       "      <td>10.234486</td>\n",
       "    </tr>\n",
       "  </tbody>\n",
       "</table>\n",
       "</div>"
      ],
      "text/plain": [
       "     ride_id  predicted_duration\n",
       "0  2023/03_0           16.245906\n",
       "1  2023/03_1           26.134796\n",
       "2  2023/03_2           11.884264\n",
       "3  2023/03_3           11.997720\n",
       "4  2023/03_4           10.234486"
      ]
     },
     "execution_count": 4,
     "metadata": {},
     "output_type": "execute_result"
    }
   ],
   "source": [
    "#Just check the output file\n",
    "import pandas as pd\n",
    "df = pd.read_parquet(\"./yellow_tripdata_2023-03.parquet\")\n",
    "df.head()"
   ]
  },
  {
   "cell_type": "markdown",
   "metadata": {},
   "source": [
    "## Q2. Installing pytest\n",
    "\n",
    "Now we need to install `pytest`:\n",
    "\n",
    "```bash\n",
    "pipenv install --dev pytest\n",
    "```\n",
    "\n",
    "Next, create a folder `tests` and create two files. One will be\n",
    "the file with tests. We can name it `test_batch.py`. \n",
    "\n",
    "What should be the other file? \n",
    "\n",
    "Hint: to be able to test `batch.py`, we need to be able to\n",
    "import it. Without this other file, we won't be able to do it."
   ]
  },
  {
   "cell_type": "markdown",
   "metadata": {},
   "source": [
    "You need to create an `__init__.py` file"
   ]
  },
  {
   "cell_type": "markdown",
   "metadata": {},
   "source": [
    "## Q3. Writing first unit test\n",
    "\n",
    "Now let's cover our code with unit tests.\n",
    "\n",
    "We'll start with the pre-processing logic inside `read_data`.\n",
    "\n",
    "It's difficult to test right now because first reads\n",
    "the file and then performs some transformations. We need to split this \n",
    "code into two parts: reading (I/O) and transformation. \n",
    "\n",
    "So let's create a function `prepare_data` that takes in a dataframe \n",
    "(and some other parameters too) and applies some transformation to it.\n",
    "\n",
    "(That's basically the entire `read_data` function after reading \n",
    "the parquet file)\n",
    "\n",
    "Now create a test and use this as input:\n",
    "\n",
    "```python\n",
    "data = [\n",
    "    (None, None, dt(1, 1), dt(1, 10)),\n",
    "    (1, 1, dt(1, 2), dt(1, 10)),\n",
    "    (1, None, dt(1, 2, 0), dt(1, 2, 59)),\n",
    "    (3, 4, dt(1, 2, 0), dt(2, 2, 1)),      \n",
    "]\n",
    "\n",
    "columns = ['PULocationID', 'DOLocationID', 'tpep_pickup_datetime', 'tpep_dropoff_datetime']\n",
    "df = pd.DataFrame(data, columns=columns)\n",
    "```\n",
    "\n",
    "Where `dt` is a helper function:\n",
    "\n",
    "```python\n",
    "from datetime import datetime\n",
    "\n",
    "def dt(hour, minute, second=0):\n",
    "    return datetime(2023, 1, 1, hour, minute, second)\n",
    "```\n",
    "\n",
    "Define the expected output and use the assert to make sure \n",
    "that the actual dataframe matches the expected one.\n",
    "\n",
    "Tip: When you compare two Pandas DataFrames, the result is also a DataFrame.\n",
    "The same is true for Pandas Series. Also, a DataFrame could be turned into a list of dictionaries.  \n",
    "\n",
    "How many rows should be there in the expected dataframe?\n",
    "\n",
    "* 1\n",
    "* 2\n",
    "* 3\n",
    "* 4"
   ]
  },
  {
   "cell_type": "code",
   "execution_count": 5,
   "metadata": {},
   "outputs": [],
   "source": [
    "from datetime import datetime\n",
    "\n",
    "def dt(hour, minute, second=0):\n",
    "    return datetime(2023, 1, 1, hour, minute, second)"
   ]
  },
  {
   "cell_type": "code",
   "execution_count": 8,
   "metadata": {},
   "outputs": [
    {
     "data": {
      "text/html": [
       "<div>\n",
       "<style scoped>\n",
       "    .dataframe tbody tr th:only-of-type {\n",
       "        vertical-align: middle;\n",
       "    }\n",
       "\n",
       "    .dataframe tbody tr th {\n",
       "        vertical-align: top;\n",
       "    }\n",
       "\n",
       "    .dataframe thead th {\n",
       "        text-align: right;\n",
       "    }\n",
       "</style>\n",
       "<table border=\"1\" class=\"dataframe\">\n",
       "  <thead>\n",
       "    <tr style=\"text-align: right;\">\n",
       "      <th></th>\n",
       "      <th>PULocationID</th>\n",
       "      <th>DOLocationID</th>\n",
       "      <th>tpep_pickup_datetime</th>\n",
       "      <th>tpep_dropoff_datetime</th>\n",
       "    </tr>\n",
       "  </thead>\n",
       "  <tbody>\n",
       "    <tr>\n",
       "      <th>0</th>\n",
       "      <td>NaN</td>\n",
       "      <td>NaN</td>\n",
       "      <td>2023-01-01 01:01:00</td>\n",
       "      <td>2023-01-01 01:10:00</td>\n",
       "    </tr>\n",
       "    <tr>\n",
       "      <th>1</th>\n",
       "      <td>1.0</td>\n",
       "      <td>1.0</td>\n",
       "      <td>2023-01-01 01:02:00</td>\n",
       "      <td>2023-01-01 01:10:00</td>\n",
       "    </tr>\n",
       "    <tr>\n",
       "      <th>2</th>\n",
       "      <td>1.0</td>\n",
       "      <td>NaN</td>\n",
       "      <td>2023-01-01 01:02:00</td>\n",
       "      <td>2023-01-01 01:02:59</td>\n",
       "    </tr>\n",
       "    <tr>\n",
       "      <th>3</th>\n",
       "      <td>3.0</td>\n",
       "      <td>4.0</td>\n",
       "      <td>2023-01-01 01:02:00</td>\n",
       "      <td>2023-01-01 02:02:01</td>\n",
       "    </tr>\n",
       "  </tbody>\n",
       "</table>\n",
       "</div>"
      ],
      "text/plain": [
       "   PULocationID  DOLocationID tpep_pickup_datetime tpep_dropoff_datetime\n",
       "0           NaN           NaN  2023-01-01 01:01:00   2023-01-01 01:10:00\n",
       "1           1.0           1.0  2023-01-01 01:02:00   2023-01-01 01:10:00\n",
       "2           1.0           NaN  2023-01-01 01:02:00   2023-01-01 01:02:59\n",
       "3           3.0           4.0  2023-01-01 01:02:00   2023-01-01 02:02:01"
      ]
     },
     "execution_count": 8,
     "metadata": {},
     "output_type": "execute_result"
    }
   ],
   "source": [
    "data = [\n",
    "    (None, None, dt(1, 1), dt(1, 10)),\n",
    "    (1, 1, dt(1, 2), dt(1, 10)),\n",
    "    (1, None, dt(1, 2, 0), dt(1, 2, 59)),\n",
    "    (3, 4, dt(1, 2, 0), dt(2, 2, 1)),      \n",
    "]\n",
    "\n",
    "columns = ['PULocationID', 'DOLocationID', 'tpep_pickup_datetime', 'tpep_dropoff_datetime']\n",
    "df_test = pd.DataFrame(data, columns=columns)\n",
    "df_test.to_parquet(\"./test.parquet\")\n",
    "df_test"
   ]
  },
  {
   "cell_type": "code",
   "execution_count": 12,
   "metadata": {},
   "outputs": [
    {
     "data": {
      "text/html": [
       "<div>\n",
       "<style scoped>\n",
       "    .dataframe tbody tr th:only-of-type {\n",
       "        vertical-align: middle;\n",
       "    }\n",
       "\n",
       "    .dataframe tbody tr th {\n",
       "        vertical-align: top;\n",
       "    }\n",
       "\n",
       "    .dataframe thead th {\n",
       "        text-align: right;\n",
       "    }\n",
       "</style>\n",
       "<table border=\"1\" class=\"dataframe\">\n",
       "  <thead>\n",
       "    <tr style=\"text-align: right;\">\n",
       "      <th></th>\n",
       "      <th>PULocationID</th>\n",
       "      <th>DOLocationID</th>\n",
       "      <th>tpep_pickup_datetime</th>\n",
       "      <th>tpep_dropoff_datetime</th>\n",
       "      <th>duration</th>\n",
       "    </tr>\n",
       "  </thead>\n",
       "  <tbody>\n",
       "    <tr>\n",
       "      <th>0</th>\n",
       "      <td>-1</td>\n",
       "      <td>-1</td>\n",
       "      <td>2023-01-01 01:01:00</td>\n",
       "      <td>2023-01-01 01:10:00</td>\n",
       "      <td>9.0</td>\n",
       "    </tr>\n",
       "    <tr>\n",
       "      <th>1</th>\n",
       "      <td>1</td>\n",
       "      <td>1</td>\n",
       "      <td>2023-01-01 01:02:00</td>\n",
       "      <td>2023-01-01 01:10:00</td>\n",
       "      <td>8.0</td>\n",
       "    </tr>\n",
       "  </tbody>\n",
       "</table>\n",
       "</div>"
      ],
      "text/plain": [
       "  PULocationID DOLocationID tpep_pickup_datetime tpep_dropoff_datetime  \\\n",
       "0           -1           -1  2023-01-01 01:01:00   2023-01-01 01:10:00   \n",
       "1            1            1  2023-01-01 01:02:00   2023-01-01 01:10:00   \n",
       "\n",
       "   duration  \n",
       "0       9.0  \n",
       "1       8.0  "
      ]
     },
     "execution_count": 12,
     "metadata": {},
     "output_type": "execute_result"
    }
   ],
   "source": [
    "categorical = ['PULocationID', 'DOLocationID']\n",
    "\n",
    "df_test['duration'] = df_test.tpep_dropoff_datetime - df_test.tpep_pickup_datetime\n",
    "df_test['duration'] = df_test.duration.dt.total_seconds() / 60\n",
    "\n",
    "df_test = df_test[(df_test.duration >= 1) & (df_test.duration <= 60)].copy()\n",
    "\n",
    "df_test[categorical] = df_test[categorical].fillna(-1).astype('int').astype('str')\n",
    "df_test"
   ]
  },
  {
   "cell_type": "code",
   "execution_count": 18,
   "metadata": {},
   "outputs": [
    {
     "data": {
      "text/plain": [
       "{'PULocationID': {0: '-1', 1: '1'},\n",
       " 'DOLocationID': {0: '-1', 1: '1'},\n",
       " 'tpep_pickup_datetime': {0: Timestamp('2023-01-01 01:01:00'),\n",
       "  1: Timestamp('2023-01-01 01:02:00')},\n",
       " 'tpep_dropoff_datetime': {0: Timestamp('2023-01-01 01:10:00'),\n",
       "  1: Timestamp('2023-01-01 01:10:00')},\n",
       " 'duration': {0: 9.0, 1: 8.0}}"
      ]
     },
     "execution_count": 18,
     "metadata": {},
     "output_type": "execute_result"
    }
   ],
   "source": [
    "df_test.to_dict()"
   ]
  },
  {
   "cell_type": "markdown",
   "metadata": {},
   "source": [
    "There are 2 rows in the expected dataframe"
   ]
  },
  {
   "cell_type": "code",
   "execution_count": 15,
   "metadata": {},
   "outputs": [
    {
     "data": {
      "text/html": [
       "<div>\n",
       "<style scoped>\n",
       "    .dataframe tbody tr th:only-of-type {\n",
       "        vertical-align: middle;\n",
       "    }\n",
       "\n",
       "    .dataframe tbody tr th {\n",
       "        vertical-align: top;\n",
       "    }\n",
       "\n",
       "    .dataframe thead th {\n",
       "        text-align: right;\n",
       "    }\n",
       "</style>\n",
       "<table border=\"1\" class=\"dataframe\">\n",
       "  <thead>\n",
       "    <tr style=\"text-align: right;\">\n",
       "      <th></th>\n",
       "      <th>PULocationID</th>\n",
       "      <th>DOLocationID</th>\n",
       "      <th>tpep_pickup_datetime</th>\n",
       "      <th>tpep_dropoff_datetime</th>\n",
       "      <th>duration</th>\n",
       "    </tr>\n",
       "  </thead>\n",
       "  <tbody>\n",
       "    <tr>\n",
       "      <th>0</th>\n",
       "      <td>hello</td>\n",
       "      <td>-1</td>\n",
       "      <td>2023-01-01 01:01:00</td>\n",
       "      <td>2023-01-01 01:10:00</td>\n",
       "      <td>9.0</td>\n",
       "    </tr>\n",
       "    <tr>\n",
       "      <th>1</th>\n",
       "      <td>1</td>\n",
       "      <td>1</td>\n",
       "      <td>2023-01-01 01:02:00</td>\n",
       "      <td>2023-01-01 01:10:00</td>\n",
       "      <td>8.0</td>\n",
       "    </tr>\n",
       "  </tbody>\n",
       "</table>\n",
       "</div>"
      ],
      "text/plain": [
       "  PULocationID DOLocationID tpep_pickup_datetime tpep_dropoff_datetime  \\\n",
       "0        hello           -1  2023-01-01 01:01:00   2023-01-01 01:10:00   \n",
       "1            1            1  2023-01-01 01:02:00   2023-01-01 01:10:00   \n",
       "\n",
       "   duration  \n",
       "0       9.0  \n",
       "1       8.0  "
      ]
     },
     "execution_count": 15,
     "metadata": {},
     "output_type": "execute_result"
    }
   ],
   "source": [
    "temp = df_test.copy()\n",
    "temp.at[0,'PULocationID'] = \"hello\"\n",
    "temp"
   ]
  },
  {
   "cell_type": "code",
   "execution_count": 22,
   "metadata": {},
   "outputs": [
    {
     "data": {
      "text/html": [
       "<div>\n",
       "<style scoped>\n",
       "    .dataframe tbody tr th:only-of-type {\n",
       "        vertical-align: middle;\n",
       "    }\n",
       "\n",
       "    .dataframe tbody tr th {\n",
       "        vertical-align: top;\n",
       "    }\n",
       "\n",
       "    .dataframe thead th {\n",
       "        text-align: right;\n",
       "    }\n",
       "</style>\n",
       "<table border=\"1\" class=\"dataframe\">\n",
       "  <thead>\n",
       "    <tr style=\"text-align: right;\">\n",
       "      <th></th>\n",
       "      <th>ride_id</th>\n",
       "      <th>predicted_duration</th>\n",
       "    </tr>\n",
       "  </thead>\n",
       "  <tbody>\n",
       "    <tr>\n",
       "      <th>0</th>\n",
       "      <td>2023/01_0</td>\n",
       "      <td>23.197149</td>\n",
       "    </tr>\n",
       "    <tr>\n",
       "      <th>1</th>\n",
       "      <td>2023/01_1</td>\n",
       "      <td>13.080101</td>\n",
       "    </tr>\n",
       "  </tbody>\n",
       "</table>\n",
       "</div>"
      ],
      "text/plain": [
       "     ride_id  predicted_duration\n",
       "0  2023/01_0           23.197149\n",
       "1  2023/01_1           13.080101"
      ]
     },
     "execution_count": 22,
     "metadata": {},
     "output_type": "execute_result"
    }
   ],
   "source": [
    "import pickle\n",
    "year_test = 2023\n",
    "month_test = 1 \n",
    "with open('model.bin', 'rb') as f_in:\n",
    "        dv, lr = pickle.load(f_in)\n",
    "df_test['ride_id'] = f'{year_test:04d}/{month_test:02d}_' + df_test.index.astype('str')\n",
    "dicts = df_test[categorical].to_dict(orient='records')\n",
    "X_val = dv.transform(dicts)\n",
    "y_pred = lr.predict(X_val)\n",
    "df_result = pd.DataFrame()\n",
    "df_result['ride_id'] = df_test['ride_id']\n",
    "df_result['predicted_duration'] = y_pred\n",
    "df_result"
   ]
  },
  {
   "cell_type": "code",
   "execution_count": 23,
   "metadata": {},
   "outputs": [
    {
     "data": {
      "text/plain": [
       "{'ride_id': {0: '2023/01_0', 1: '2023/01_1'},\n",
       " 'predicted_duration': {0: 23.19714924577506, 1: 13.08010120625567}}"
      ]
     },
     "execution_count": 23,
     "metadata": {},
     "output_type": "execute_result"
    }
   ],
   "source": [
    "df_result.to_dict()"
   ]
  },
  {
   "cell_type": "markdown",
   "metadata": {},
   "source": []
  }
 ],
 "metadata": {
  "kernelspec": {
   "display_name": "mlops_zoomcamp",
   "language": "python",
   "name": "python3"
  },
  "language_info": {
   "codemirror_mode": {
    "name": "ipython",
    "version": 3
   },
   "file_extension": ".py",
   "mimetype": "text/x-python",
   "name": "python",
   "nbconvert_exporter": "python",
   "pygments_lexer": "ipython3",
   "version": "3.9.0"
  }
 },
 "nbformat": 4,
 "nbformat_minor": 2
}
